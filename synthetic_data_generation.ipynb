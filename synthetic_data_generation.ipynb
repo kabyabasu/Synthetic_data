{
  "nbformat": 4,
  "nbformat_minor": 0,
  "metadata": {
    "colab": {
      "provenance": []
    },
    "kernelspec": {
      "name": "python3",
      "display_name": "Python 3"
    },
    "language_info": {
      "name": "python"
    }
  },
  "cells": [
    {
      "cell_type": "markdown",
      "source": [
        "Problem Statement :\n",
        "\n",
        "Need to generate new data points between the two initial input data points.\n",
        "\n",
        "Solution:\n",
        "\n",
        "and passed a \n",
        "\n",
        "*   Trained a regression model with the two initial input data points.\n",
        "*   Generated a custom number of new X avlue that is in the range of the X  values of the initial input data points.\n",
        "*   predict new Y values with the newly generated X values\n",
        "*   Plotted the result \n"
      ],
      "metadata": {
        "id": "nd9OC8NdwaUr"
      }
    },
    {
      "cell_type": "code",
      "source": [
        "#importing necessary libraries\n",
        "import pandas as pd\n",
        "import numpy as np\n",
        "import matplotlib.pyplot as plt\n",
        "from IPython.lib.security import random\n",
        "from sklearn.linear_model import LinearRegression\n",
        "\n",
        "class LinerNumberGenerator:\n",
        "\n",
        "  def __init__(self,x_input,y_input,num):\n",
        "\n",
        "    self.x_input = x_input\n",
        "    self.y_input = y_input\n",
        "    self.num = num\n",
        "\n",
        "\n",
        "  def train_model(self):\n",
        "    # traning regression model with initial input\n",
        "    \n",
        "    self.model = LinearRegression()\n",
        "\n",
        "    self.model.fit(self.x_input.reshape(-1,1),self.y_input)\n",
        "\n",
        "    return self.model\n",
        "\n",
        "\n",
        "  def genX(self):\n",
        "    #generating new x values in the range of the X values of the initial data points\n",
        "    \n",
        "    self.x_new = np.linspace(self.x_input[0],self.x_input[-1],self.num)\n",
        "    return self.x_new\n",
        "\n",
        "\n",
        "  def genY(self):\n",
        "    #generating new Y values with tranined model\n",
        "\n",
        "    self.x_new = self.genX()\n",
        "    self.model = self.train_model()\n",
        "    self.y_new= self.model.predict(self.x_new.reshape(-1,1))\n",
        "\n",
        "    return self.y_new "
      ],
      "metadata": {
        "id": "AFAiALwSmQMU"
      },
      "execution_count": 121,
      "outputs": []
    },
    {
      "cell_type": "code",
      "source": [
        "#Initializing object \n",
        "\n",
        "num_of_new_data_point = 10\n",
        "initial_data_point1 = np.array([1,6])\n",
        "initial_data_point2 = np.array([2,8])\n",
        "\n",
        "generator = LinerNumberGenerator(initial_data_point1,initial_data_point2,num_of_new_data_point)"
      ],
      "metadata": {
        "id": "p9k9h11jp8VV"
      },
      "execution_count": 122,
      "outputs": []
    },
    {
      "cell_type": "code",
      "source": [
        "#ploting the data\n",
        "fig,ax = plt.subplots(1,2,figsize=(8,4))\n",
        "ax[0].scatter(initial_data_point1,initial_data_point2)\n",
        "ax[0].set_title(\"Initial Data Points\")\n",
        "ax[1].scatter(generator.genX(),generator.genY())\n",
        "ax[1].set_title(\"Generated Data Points\")\n"
      ],
      "metadata": {
        "colab": {
          "base_uri": "https://localhost:8080/",
          "height": 408
        },
        "id": "XLtK4KImpyuw",
        "outputId": "c320e333-63f4-4a73-df49-c1a448581cdf"
      },
      "execution_count": 123,
      "outputs": [
        {
          "output_type": "execute_result",
          "data": {
            "text/plain": [
              "Text(0.5, 1.0, 'Generated Data Points')"
            ]
          },
          "metadata": {},
          "execution_count": 123
        },
        {
          "output_type": "display_data",
          "data": {
            "text/plain": [
              "<Figure size 800x400 with 2 Axes>"
            ],
            "image/png": "[encoded data removed]"
          },
          "metadata": {}
        }
      ]
    }
  ]
}